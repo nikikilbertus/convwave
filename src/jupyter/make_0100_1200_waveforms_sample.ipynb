{
 "cells": [
  {
   "cell_type": "code",
   "execution_count": 2,
   "metadata": {
    "collapsed": true
   },
   "outputs": [],
   "source": [
    "import numpy as np\n",
    "import h5py\n",
    "import json\n",
    "import pandas as pd\n",
    "import os"
   ]
  },
  {
   "cell_type": "code",
   "execution_count": 41,
   "metadata": {},
   "outputs": [
    {
     "name": "stdout",
     "output_type": "stream",
     "text": [
      "2\n",
      "5\n",
      "4\n",
      "6\n"
     ]
    }
   ],
   "source": [
    "all_waveforms = []\n",
    "all_configs = []\n",
    "\n",
    "for filename in ['waveforms_3s_0100_0300.h5', 'waveforms_3s_0250_0500.h5',\n",
    "                 'waveforms_3s_0400_0800.h5', 'waveforms_3s_0700_1200.h5']:\n",
    "    \n",
    "    waveforms_path = os.path.join('../data', 'waveforms', filename)\n",
    "\n",
    "    # Read in the actual waveforms, the config string (and parse from JSON),\n",
    "    # and the indices of the failed waveforms\n",
    "    with h5py.File(waveforms_path, 'r') as file:\n",
    "        waveforms = np.array(file['waveforms'])\n",
    "        config = json.loads(file['config'].value.astype('str'))['injections']\n",
    "        failed_idx = np.array(file['failed'])\n",
    "        print(len(failed_idx))\n",
    "\n",
    "    # Create a Pandas DataFrame containing only the relevant columns from the\n",
    "    # config string (other columns are all trivial at this point)\n",
    "    dataframe = pd.DataFrame(config)\n",
    "\n",
    "    # Add columns for the actual waveforms\n",
    "    dataframe['waveform'] = list(waveforms)\n",
    "\n",
    "    # Drop the rows with the failed waveforms, and reset the index\n",
    "    dataframe = dataframe.drop(list(failed_idx)).reset_index(drop=True)\n",
    "\n",
    "    # Resort columns to order them alphabetically\n",
    "    dataframe = dataframe[sorted(dataframe.columns)]\n",
    "\n",
    "    waveforms = list(dataframe['waveform'])\n",
    "    config = dataframe.loc[:, dataframe.columns != 'waveform']\n",
    "    \n",
    "    config_json = config.to_dict(orient='records')\n",
    "\n",
    "    all_waveforms += waveforms\n",
    "    all_configs += config_json"
   ]
  },
  {
   "cell_type": "code",
   "execution_count": 42,
   "metadata": {},
   "outputs": [],
   "source": [
    "new_waveforms_path = os.path.join('../data', 'waveforms', 'waveforms_3s_0100_1200.h5')\n",
    "\n",
    "# Read in the actual waveforms, the config string (and parse from JSON),\n",
    "# and the indices of the failed waveforms\n",
    "with h5py.File(new_waveforms_path, 'w') as file:\n",
    "    file['waveforms'] = np.array(all_waveforms)\n",
    "    file['config'] = np.string_(json.dumps({'injections': all_configs}))\n",
    "    file['failed'] = np.array([])"
   ]
  },
  {
   "cell_type": "code",
   "execution_count": null,
   "metadata": {
    "collapsed": true
   },
   "outputs": [],
   "source": []
  }
 ],
 "metadata": {
  "kernelspec": {
   "display_name": "Python 3",
   "language": "python",
   "name": "python3"
  },
  "language_info": {
   "codemirror_mode": {
    "name": "ipython",
    "version": 3
   },
   "file_extension": ".py",
   "mimetype": "text/x-python",
   "name": "python",
   "nbconvert_exporter": "python",
   "pygments_lexer": "ipython3",
   "version": "3.5.2"
  }
 },
 "nbformat": 4,
 "nbformat_minor": 2
}
