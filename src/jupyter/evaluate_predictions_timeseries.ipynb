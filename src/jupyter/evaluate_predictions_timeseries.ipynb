{
 "cells": [
  {
   "cell_type": "markdown",
   "metadata": {},
   "source": [
    "# Evaluate Accuracy and Loss on Test Set"
   ]
  },
  {
   "cell_type": "markdown",
   "metadata": {},
   "source": [
    "## Preliminaries: iPython magic and imports"
   ]
  },
  {
   "cell_type": "code",
   "execution_count": 1,
   "metadata": {
    "collapsed": true
   },
   "outputs": [],
   "source": [
    "%matplotlib inline\n",
    "%config InlineBackend.figure_format = 'retina'"
   ]
  },
  {
   "cell_type": "code",
   "execution_count": 2,
   "metadata": {
    "collapsed": true
   },
   "outputs": [],
   "source": [
    "import numpy as np\n",
    "import matplotlib.pyplot as plt\n",
    "import os\n",
    "import sys\n",
    "import h5py\n",
    "from pprint import pprint\n",
    "import copy"
   ]
  },
  {
   "cell_type": "markdown",
   "metadata": {},
   "source": [
    "## Read in the predictions and make plots"
   ]
  },
  {
   "cell_type": "code",
   "execution_count": 3,
   "metadata": {
    "scrolled": false
   },
   "outputs": [
    {
     "name": "stdout",
     "output_type": "stream",
     "text": [
      "FROM COMPUTATION DURING TRAINING:\n",
      "Loss: 0.189\n",
      "Hamming Distance: 0.062\n",
      "\n"
     ]
    }
   ],
   "source": [
    "# Path to the directory where all data is stored\n",
    "data_path = '../data'\n",
    "\n",
    "# Name of the file containing the predictions we want to inspect\n",
    "file_name = 'predictions_GW170104_0700_1200_8k.h5'\n",
    "file_path = os.path.join(data_path, 'predictions', 'timeseries', file_name)\n",
    "\n",
    "# Open the HDF file and read in the spectrogram, predictions and true labels\n",
    "with h5py.File(file_path, 'r') as file:\n",
    "    timeseries  = np.array(file['x'])\n",
    "    pred_labels = np.array(file['y_pred'])\n",
    "    true_labels = np.array(file['y_true'])\n",
    "\n",
    "    loss = float(np.array(file['avg_loss']))\n",
    "    hamming = float(np.array(file['avg_hamming_distance']))\n",
    "\n",
    "print('FROM COMPUTATION DURING TRAINING:')\n",
    "print('Loss: {:.3f}'.format(loss))\n",
    "print('Hamming Distance: {:.3f}'.format(hamming), end='\\n\\n')"
   ]
  },
  {
   "cell_type": "code",
   "execution_count": 4,
   "metadata": {},
   "outputs": [
    {
     "name": "stdout",
     "output_type": "stream",
     "text": [
      "CALCULATED HERE:\n",
      "Accurary @ 0.50: 0.938\n"
     ]
    }
   ],
   "source": [
    "print('CALCULATED HERE:')\n",
    "\n",
    "pred_labels = pred_labels\n",
    "true_labels = true_labels\n",
    "\n",
    "for threshold in [0.5]:\n",
    "    \n",
    "    def apply_threshold(x):\n",
    "        # threshold = 0.9\n",
    "        return int(x >= threshold)\n",
    "    apply_threshold = np.vectorize(apply_threshold)\n",
    "\n",
    "    window_size = 1\n",
    "    smoothed_pred_labels = np.empty(pred_labels.shape)\n",
    "    for i in range(len(pred_labels)):\n",
    "        smoothed_pred_labels[i] = np.convolve(pred_labels[i], np.ones(window_size)/window_size, mode='same')\n",
    "    \n",
    "    thresh_pred_labels = apply_threshold(smoothed_pred_labels)\n",
    "    accuracy = 1 - np.mean(np.abs(np.ceil(true_labels) - thresh_pred_labels), axis=(1, 0))\n",
    "\n",
    "    print('Accurary @ {:.2f}: {:.3f}'.format(threshold, accuracy))"
   ]
  },
  {
   "cell_type": "code",
   "execution_count": null,
   "metadata": {
    "collapsed": true
   },
   "outputs": [],
   "source": []
  }
 ],
 "metadata": {
  "kernelspec": {
   "display_name": "Python 3",
   "language": "python",
   "name": "python3"
  },
  "language_info": {
   "codemirror_mode": {
    "name": "ipython",
    "version": 3
   },
   "file_extension": ".py",
   "mimetype": "text/x-python",
   "name": "python",
   "nbconvert_exporter": "python",
   "pygments_lexer": "ipython3",
   "version": "3.5.2"
  }
 },
 "nbformat": 4,
 "nbformat_minor": 2
}
