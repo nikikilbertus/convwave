{
 "cells": [
  {
   "cell_type": "code",
   "execution_count": 1,
   "metadata": {
    "collapsed": true
   },
   "outputs": [],
   "source": [
    "%matplotlib inline\n",
    "%config InlineBackend.figure_format='retina'"
   ]
  },
  {
   "cell_type": "code",
   "execution_count": 2,
   "metadata": {
    "collapsed": true
   },
   "outputs": [],
   "source": [
    "import numpy as np\n",
    "import matplotlib.pyplot as plt\n",
    "import h5py\n",
    "import os\n",
    "\n",
    "from matplotlib import mlab\n",
    "from pprint import pprint\n",
    "from tabulate import tabulate\n",
    "from IPython.display import HTML, display\n",
    "from scipy.interpolate import interp1d"
   ]
  },
  {
   "cell_type": "markdown",
   "metadata": {},
   "source": [
    "## Define functions we will need later on"
   ]
  },
  {
   "cell_type": "code",
   "execution_count": 3,
   "metadata": {
    "collapsed": true
   },
   "outputs": [],
   "source": [
    "def apply_psd(signal_t, psd, sampling_rate=4096, apply_butter=False):\n",
    "    \"\"\"\n",
    "    Take a signal in the time domain, and a precalculated Power Spectral\n",
    "    Density, and color the signal according to the given PSD.\n",
    "\n",
    "    Args:\n",
    "        signal_t: A signal in time domain (i.e. a 1D numpy array)\n",
    "        psd: A Power Spectral Density, e.g. calculated from the detector noise.\n",
    "            Should be a function: psd(frequency)\n",
    "        sampling_rate: Sampling rate of signal_t\n",
    "        apply_butter: Whether or not to apply a Butterworth filter to the data.\n",
    "\n",
    "    Returns: color_signal_t, the colored signal in the time domain.\n",
    "    \"\"\"\n",
    "\n",
    "    # First set some parameters for computing power spectra\n",
    "    signal_size = len(signal_t)\n",
    "    delta_t = 1 / sampling_rate\n",
    "\n",
    "    # Go into Fourier (frequency) space: signal_t -> signal_f\n",
    "    frequencies = np.fft.rfftfreq(signal_size, delta_t)\n",
    "    signal_f = np.fft.rfft(signal_t)\n",
    "\n",
    "    # Divide by the given Power Spectral Density (PSD)\n",
    "    # This is the 'whitening' = actually adding color\n",
    "    color_signal_f = signal_f / (np.sqrt(psd(frequencies) / delta_t / 2))\n",
    "\n",
    "    # Go back into time space: color_signal_f -> color_signal_t\n",
    "    color_signal_t = np.fft.irfft(color_signal_f, n=signal_size)\n",
    "\n",
    "    # In case we want to use a Butterworth-filter, here's how to do it:\n",
    "    if apply_butter:\n",
    "\n",
    "        # Define cut-off frequencies for the filter\n",
    "        f_low = 42\n",
    "        f_high = 800\n",
    "\n",
    "        # Calculate Butterworth-filter and normalization\n",
    "        numerator, denominator = butter(4, [f_low*2/4096, f_high*2/4096],\n",
    "                                        btype=\"bandpass\")\n",
    "        normalization = np.sqrt((f_high - f_low) / (sampling_rate / 2))\n",
    "\n",
    "        # Apply filter and normalize\n",
    "        color_signal_t = filtfilt(numerator, denominator, color_signal_t)\n",
    "        color_signal_t = color_signal_t / normalization\n",
    "\n",
    "    return color_signal_t\n",
    "\n",
    "\n",
    "# -----------------------------------------------------------------------------\n",
    "\n",
    "\n",
    "def get_psd(real_strain, sampling_rate=4096):\n",
    "    \"\"\"\n",
    "    Take a detector recording and calculate the Power Spectral Density (PSD).\n",
    "\n",
    "    Args:\n",
    "        real_strain: The detector recording to be used.\n",
    "        sampling_rate: The sampling rate (in Hz) of the recording\n",
    "\n",
    "    Returns:\n",
    "        psd: The Power Spectral Density of the detector recordings\n",
    "    \"\"\"\n",
    "\n",
    "    # Define some constants\n",
    "    nfft = 2 * sampling_rate  # Bigger values yield better resolution?\n",
    "\n",
    "    # Use matplotlib.mlab to calculate the PSD from the real strain\n",
    "    power_spectrum, frequencies = mlab.psd(real_strain,\n",
    "                                           NFFT=nfft,\n",
    "                                           Fs=sampling_rate)\n",
    "\n",
    "    # Interpolate it linearly, so we can re-sample the spectrum arbitrarily\n",
    "    psd = interp1d(frequencies, power_spectrum)\n",
    "\n",
    "    return psd"
   ]
  },
  {
   "cell_type": "markdown",
   "metadata": {},
   "source": [
    "## Read in the strain files for all events"
   ]
  },
  {
   "cell_type": "code",
   "execution_count": 4,
   "metadata": {
    "collapsed": true,
    "scrolled": false
   },
   "outputs": [],
   "source": [
    "# Path to the directory where all data is stored\n",
    "data_path = '../data'\n",
    "\n",
    "strains = dict()\n",
    "\n",
    "for event in ['GW150914', 'GW151226', 'GW170104']:\n",
    "    \n",
    "    strains[event] = dict()\n",
    "    \n",
    "    with h5py.File(os.path.join(data_path, 'strain', '{}_H1_STRAIN_4096.h5'.format(event)), 'r') as file:\n",
    "        strains[event]['H1'] = np.array(file['strain/Strain'])\n",
    "    with h5py.File(os.path.join(data_path, 'strain', '{}_L1_STRAIN_4096.h5'.format(event)), 'r') as file:\n",
    "        strains[event]['L1'] = np.array(file['strain/Strain'])"
   ]
  },
  {
   "cell_type": "code",
   "execution_count": 5,
   "metadata": {
    "collapsed": true
   },
   "outputs": [],
   "source": [
    "psds = dict()\n",
    "\n",
    "for event in ['GW150914', 'GW151226', 'GW170104']:\n",
    "    \n",
    "    psds[event] = dict()\n",
    "    psds[event]['H1'] = get_psd(strains[event]['H1'])\n",
    "    psds[event]['L1'] = get_psd(strains[event]['L1'])"
   ]
  },
  {
   "cell_type": "markdown",
   "metadata": {},
   "source": [
    "## Read in and whiten the waveform files"
   ]
  },
  {
   "cell_type": "code",
   "execution_count": 7,
   "metadata": {},
   "outputs": [],
   "source": [
    "waveforms = dict()\n",
    "for dist in ['0100_0300', '0250_0500', '0400_0800', '0700_1200', '1000_1700']:\n",
    "    with h5py.File(os.path.join(data_path, 'waveforms', 'waveforms_3s_{}_testing.h5'.format(dist)), 'r') as file:\n",
    "        waveforms_ = np.array(file['waveforms'])\n",
    "        failed_ = np.array(file['failed'])\n",
    "        waveforms[dist] = [_ for i, _ in enumerate(waveforms_) if i not in failed_]"
   ]
  },
  {
   "cell_type": "code",
   "execution_count": 8,
   "metadata": {
    "collapsed": true
   },
   "outputs": [],
   "source": [
    "white_waveforms = dict()\n",
    "for event in ['GW150914', 'GW151226', 'GW170104']:\n",
    "    white_waveforms[event] = dict()\n",
    "    for dist in ['0100_0300', '0250_0500', '0400_0800', '0700_1200', '1000_1700']:\n",
    "    \n",
    "        white_waveforms[event][dist] = dict()\n",
    "        white_waveforms[event][dist]['H1'] = []\n",
    "        white_waveforms[event][dist]['L1'] = []\n",
    "    \n",
    "        for waveform in waveforms[dist]:\n",
    "            white_waveforms[event][dist]['H1'].append(apply_psd(waveform, psds[event]['H1']))\n",
    "            white_waveforms[event][dist]['L1'].append(apply_psd(waveform, psds[event]['L1']))"
   ]
  },
  {
   "cell_type": "markdown",
   "metadata": {},
   "source": [
    "## Calculate the SNRs"
   ]
  },
  {
   "cell_type": "code",
   "execution_count": 9,
   "metadata": {
    "collapsed": true
   },
   "outputs": [],
   "source": [
    "stds = {'GW150914': {'H1': 0.98780110486117378, 'L1': 0.98664230166344458},\n",
    "        'GW151226': {'H1': 0.99035140654295228, 'L1': 0.98776116540338088},\n",
    "        'GW170104': {'H1': 0.99212202082054124, 'L1': 0.98727435617370363}}"
   ]
  },
  {
   "cell_type": "code",
   "execution_count": 14,
   "metadata": {
    "collapsed": true
   },
   "outputs": [],
   "source": [
    "snrs = dict()\n",
    "for event in ['GW150914', 'GW151226', 'GW170104']:\n",
    "    snrs[event] = dict()\n",
    "    for dist in ['0100_0300', '0250_0500', '0400_0800', '0700_1200', '1000_1700']:\n",
    "        \n",
    "        snrs[event][dist] = dict()\n",
    "        snrs[event][dist]['H1'] = []\n",
    "        snrs[event][dist]['L1'] = []\n",
    "        \n",
    "        for i, white_waveform in enumerate(white_waveforms[event][dist]['H1']):\n",
    "            maximum = np.max(np.abs(white_waveform))\n",
    "            snrs[event][dist]['H1'].append(maximum / stds[event]['H1'])\n",
    "            if maximum == 0:\n",
    "                print(event, dist, i)\n",
    "        for i, white_waveform in enumerate(white_waveforms[event][dist]['L1']):\n",
    "            maximum = np.max(np.abs(white_waveform))\n",
    "            snrs[event][dist]['L1'].append(maximum / stds[event]['L1'])\n",
    "            if maximum == 0:\n",
    "                print(event, dist, i)"
   ]
  },
  {
   "cell_type": "code",
   "execution_count": null,
   "metadata": {},
   "outputs": [],
   "source": []
  },
  {
   "cell_type": "code",
   "execution_count": 17,
   "metadata": {},
   "outputs": [
    {
     "data": {
      "text/html": [
       "<h3>SNRs for GW150914</h3>"
      ],
      "text/plain": [
       "<IPython.core.display.HTML object>"
      ]
     },
     "metadata": {},
     "output_type": "display_data"
    },
    {
     "data": {
      "text/html": [
       "<table>\n",
       "<thead>\n",
       "<tr><th>Distances  </th><th style=\"text-align: right;\">  Median H1</th><th style=\"text-align: right;\">  Minimum H1</th><th style=\"text-align: right;\">  Maximum H1</th><th style=\"text-align: right;\">  Median L1</th><th style=\"text-align: right;\">  Minimum L1</th><th style=\"text-align: right;\">  Maximum L1</th></tr>\n",
       "</thead>\n",
       "<tbody>\n",
       "<tr><td>0100_0300  </td><td style=\"text-align: right;\">       6.63</td><td style=\"text-align: right;\">        0.61</td><td style=\"text-align: right;\">       27.59</td><td style=\"text-align: right;\">       6.16</td><td style=\"text-align: right;\">        0.6 </td><td style=\"text-align: right;\">       25.42</td></tr>\n",
       "<tr><td>0250_0500  </td><td style=\"text-align: right;\">       3.56</td><td style=\"text-align: right;\">        0.32</td><td style=\"text-align: right;\">       11.3 </td><td style=\"text-align: right;\">       3.3 </td><td style=\"text-align: right;\">        0.32</td><td style=\"text-align: right;\">       10.39</td></tr>\n",
       "<tr><td>0400_0800  </td><td style=\"text-align: right;\">       2.29</td><td style=\"text-align: right;\">        0.19</td><td style=\"text-align: right;\">        7.22</td><td style=\"text-align: right;\">       2.13</td><td style=\"text-align: right;\">        0.2 </td><td style=\"text-align: right;\">        6.67</td></tr>\n",
       "<tr><td>0700_1200  </td><td style=\"text-align: right;\">       1.43</td><td style=\"text-align: right;\">        0.13</td><td style=\"text-align: right;\">        4.1 </td><td style=\"text-align: right;\">       1.31</td><td style=\"text-align: right;\">        0.14</td><td style=\"text-align: right;\">        3.71</td></tr>\n",
       "<tr><td>1000_1700  </td><td style=\"text-align: right;\">       1   </td><td style=\"text-align: right;\">        0.09</td><td style=\"text-align: right;\">        2.81</td><td style=\"text-align: right;\">       0.91</td><td style=\"text-align: right;\">        0.1 </td><td style=\"text-align: right;\">        2.58</td></tr>\n",
       "</tbody>\n",
       "</table>"
      ],
      "text/plain": [
       "<IPython.core.display.HTML object>"
      ]
     },
     "metadata": {},
     "output_type": "display_data"
    },
    {
     "data": {
      "text/html": [
       "<h3>SNRs for GW151226</h3>"
      ],
      "text/plain": [
       "<IPython.core.display.HTML object>"
      ]
     },
     "metadata": {},
     "output_type": "display_data"
    },
    {
     "data": {
      "text/html": [
       "<table>\n",
       "<thead>\n",
       "<tr><th>Distances  </th><th style=\"text-align: right;\">  Median H1</th><th style=\"text-align: right;\">  Minimum H1</th><th style=\"text-align: right;\">  Maximum H1</th><th style=\"text-align: right;\">  Median L1</th><th style=\"text-align: right;\">  Minimum L1</th><th style=\"text-align: right;\">  Maximum L1</th></tr>\n",
       "</thead>\n",
       "<tbody>\n",
       "<tr><td>0100_0300  </td><td style=\"text-align: right;\">       6.53</td><td style=\"text-align: right;\">        0.59</td><td style=\"text-align: right;\">       28.47</td><td style=\"text-align: right;\">       6.38</td><td style=\"text-align: right;\">        0.59</td><td style=\"text-align: right;\">       26.64</td></tr>\n",
       "<tr><td>0250_0500  </td><td style=\"text-align: right;\">       3.48</td><td style=\"text-align: right;\">        0.31</td><td style=\"text-align: right;\">       11.58</td><td style=\"text-align: right;\">       3.43</td><td style=\"text-align: right;\">        0.32</td><td style=\"text-align: right;\">       10.78</td></tr>\n",
       "<tr><td>0400_0800  </td><td style=\"text-align: right;\">       2.28</td><td style=\"text-align: right;\">        0.21</td><td style=\"text-align: right;\">        7.42</td><td style=\"text-align: right;\">       2.23</td><td style=\"text-align: right;\">        0.2 </td><td style=\"text-align: right;\">        7.01</td></tr>\n",
       "<tr><td>0700_1200  </td><td style=\"text-align: right;\">       1.4 </td><td style=\"text-align: right;\">        0.13</td><td style=\"text-align: right;\">        4.15</td><td style=\"text-align: right;\">       1.37</td><td style=\"text-align: right;\">        0.14</td><td style=\"text-align: right;\">        3.77</td></tr>\n",
       "<tr><td>1000_1700  </td><td style=\"text-align: right;\">       0.97</td><td style=\"text-align: right;\">        0.1 </td><td style=\"text-align: right;\">        2.93</td><td style=\"text-align: right;\">       0.95</td><td style=\"text-align: right;\">        0.09</td><td style=\"text-align: right;\">        2.76</td></tr>\n",
       "</tbody>\n",
       "</table>"
      ],
      "text/plain": [
       "<IPython.core.display.HTML object>"
      ]
     },
     "metadata": {},
     "output_type": "display_data"
    },
    {
     "data": {
      "text/html": [
       "<h3>SNRs for GW170104</h3>"
      ],
      "text/plain": [
       "<IPython.core.display.HTML object>"
      ]
     },
     "metadata": {},
     "output_type": "display_data"
    },
    {
     "data": {
      "text/html": [
       "<table>\n",
       "<thead>\n",
       "<tr><th>Distances  </th><th style=\"text-align: right;\">  Median H1</th><th style=\"text-align: right;\">  Minimum H1</th><th style=\"text-align: right;\">  Maximum H1</th><th style=\"text-align: right;\">  Median L1</th><th style=\"text-align: right;\">  Minimum L1</th><th style=\"text-align: right;\">  Maximum L1</th></tr>\n",
       "</thead>\n",
       "<tbody>\n",
       "<tr><td>0100_0300  </td><td style=\"text-align: right;\">       6.74</td><td style=\"text-align: right;\">        0.62</td><td style=\"text-align: right;\">       28.63</td><td style=\"text-align: right;\">       7.28</td><td style=\"text-align: right;\">        0.66</td><td style=\"text-align: right;\">       33.25</td></tr>\n",
       "<tr><td>0250_0500  </td><td style=\"text-align: right;\">       3.64</td><td style=\"text-align: right;\">        0.34</td><td style=\"text-align: right;\">       11.6 </td><td style=\"text-align: right;\">       3.9 </td><td style=\"text-align: right;\">        0.35</td><td style=\"text-align: right;\">       13.38</td></tr>\n",
       "<tr><td>0400_0800  </td><td style=\"text-align: right;\">       2.35</td><td style=\"text-align: right;\">        0.22</td><td style=\"text-align: right;\">        7.49</td><td style=\"text-align: right;\">       2.56</td><td style=\"text-align: right;\">        0.22</td><td style=\"text-align: right;\">        8.76</td></tr>\n",
       "<tr><td>0700_1200  </td><td style=\"text-align: right;\">       1.46</td><td style=\"text-align: right;\">        0.14</td><td style=\"text-align: right;\">        4.12</td><td style=\"text-align: right;\">       1.57</td><td style=\"text-align: right;\">        0.15</td><td style=\"text-align: right;\">        4.76</td></tr>\n",
       "<tr><td>1000_1700  </td><td style=\"text-align: right;\">       1.01</td><td style=\"text-align: right;\">        0.1 </td><td style=\"text-align: right;\">        2.94</td><td style=\"text-align: right;\">       1.09</td><td style=\"text-align: right;\">        0.11</td><td style=\"text-align: right;\">        3.51</td></tr>\n",
       "</tbody>\n",
       "</table>"
      ],
      "text/plain": [
       "<IPython.core.display.HTML object>"
      ]
     },
     "metadata": {},
     "output_type": "display_data"
    }
   ],
   "source": [
    "for event in ['GW150914', 'GW151226', 'GW170104']:\n",
    "    display(HTML('<h3>SNRs for {}</h3>'.format(event)))\n",
    "    rows = []\n",
    "    for dist in ['0100_0300', '0250_0500', '0400_0800', '0700_1200', '1000_1700']:\n",
    "        median_H1 = '{:.2f}'.format(np.nanmedian(snrs[event][dist]['H1']))\n",
    "        median_L1 = '{:.2f}'.format(np.nanmedian(snrs[event][dist]['L1']))\n",
    "        min_H1    = '{:.2f}'.format(np.nanmin(snrs[event][dist]['H1']))\n",
    "        min_L1    = '{:.2f}'.format(np.nanmin(snrs[event][dist]['L1']))\n",
    "        max_H1    = '{:.2f}'.format(np.nanmax(snrs[event][dist]['H1']))\n",
    "        max_L1    = '{:.2f}'.format(np.nanmax(snrs[event][dist]['L1']))\n",
    "        rows.append([dist, median_H1, min_H1, max_H1, median_L1, min_L1, max_L1])\n",
    "    display(HTML(tabulate(rows, tablefmt='html', \n",
    "                          headers=['Distances', 'Median H1', 'Minimum H1', 'Maximum H1', 'Median L1', 'Minimum L1', 'Maximum L1'])))\n",
    "    # print(tabulate(rows, tablefmt='latex', \n",
    "    #                      headers=['Distances', 'Median H1', 'Minimum H1', 'Maximum H1', 'Median L1', 'Minimum L1', 'Maximum L1']))"
   ]
  },
  {
   "cell_type": "code",
   "execution_count": null,
   "metadata": {
    "collapsed": true
   },
   "outputs": [],
   "source": []
  }
 ],
 "metadata": {
  "kernelspec": {
   "display_name": "Python 3",
   "language": "python",
   "name": "python3"
  },
  "language_info": {
   "codemirror_mode": {
    "name": "ipython",
    "version": 3
   },
   "file_extension": ".py",
   "mimetype": "text/x-python",
   "name": "python",
   "nbconvert_exporter": "python",
   "pygments_lexer": "ipython3",
   "version": "3.5.2"
  }
 },
 "nbformat": 4,
 "nbformat_minor": 2
}
