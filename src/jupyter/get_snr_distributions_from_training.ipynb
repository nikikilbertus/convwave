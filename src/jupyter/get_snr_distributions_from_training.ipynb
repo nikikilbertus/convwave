{
 "cells": [
  {
   "cell_type": "code",
   "execution_count": 1,
   "metadata": {
    "collapsed": true
   },
   "outputs": [],
   "source": [
    "%matplotlib inline\n",
    "%config InlineBackend.figure_format='retina'"
   ]
  },
  {
   "cell_type": "code",
   "execution_count": 2,
   "metadata": {},
   "outputs": [],
   "source": [
    "import numpy as np\n",
    "import matplotlib.pyplot as plt\n",
    "import h5py\n",
    "import os\n",
    "\n",
    "from pprint import pprint\n",
    "from tabulate import tabulate\n",
    "from IPython.display import HTML, display"
   ]
  },
  {
   "cell_type": "markdown",
   "metadata": {},
   "source": [
    "## Read in the training data"
   ]
  },
  {
   "cell_type": "code",
   "execution_count": 5,
   "metadata": {
    "scrolled": false
   },
   "outputs": [
    {
     "name": "stdout",
     "output_type": "stream",
     "text": [
      "Starting on event: GW150914\n",
      "--Reading in distances: 0100_0300 (8192, 8192)\n",
      "--Reading in distances: 0250_0500 (8192, 8192)\n",
      "--Reading in distances: 0400_0800 (8192, 8192)\n",
      "--Reading in distances: 0700_1200 (8192, 8192)\n",
      "Starting on event: GW151226\n",
      "--Reading in distances: 0100_0300 (8192, 8192)\n",
      "--Reading in distances: 0250_0500 (8192, 8192)\n",
      "--Reading in distances: 0400_0800 (8192, 8192)\n",
      "--Reading in distances: 0700_1200 (8192, 8192)\n",
      "Starting on event: GW170104\n",
      "--Reading in distances: 0100_0300 (8192, 8192)\n",
      "--Reading in distances: 0250_0500 (8192, 8192)\n",
      "--Reading in distances: 0400_0800 (8192, 8192)\n",
      "--Reading in distances: 0700_1200 (8192, 8192)\n"
     ]
    }
   ],
   "source": [
    "# Path to the directory where all data is stored\n",
    "data_path = '../data'\n",
    "\n",
    "snrs = dict()\n",
    "\n",
    "for event in ['GW150914', 'GW151226', 'GW170104']:\n",
    "    \n",
    "    snrs[event] = dict()\n",
    "    print('Starting on event: {}'.format(event))\n",
    "\n",
    "    for dist in ['0100_0300', '0250_0500', '0400_0800', '0700_1200']:\n",
    "    \n",
    "        print('--Reading in distances: {}'.format(dist), end=' ')\n",
    "        snrs[event][dist] = dict()\n",
    "        \n",
    "        # Read in the HDF file\n",
    "        with h5py.File(os.path.join(data_path, \n",
    "                                    'training', \n",
    "                                    'timeseries', \n",
    "                                    'training_{}_{}_8k.h5'.format(event, dist)), 'r') as file:\n",
    "            \n",
    "            snrs[event][dist]['H1'] = np.array(file['snrs_H1'])\n",
    "            print('({}, '.format(len(snrs[event][dist]['H1'])), end='')\n",
    "            snrs[event][dist]['L1'] = np.array(file['snrs_L1'])\n",
    "            print('{})'.format(len(snrs[event][dist]['L1'])))"
   ]
  },
  {
   "cell_type": "code",
   "execution_count": 6,
   "metadata": {},
   "outputs": [
    {
     "data": {
      "text/html": [
       "<h3>GW150914</h3>"
      ],
      "text/plain": [
       "<IPython.core.display.HTML object>"
      ]
     },
     "metadata": {},
     "output_type": "display_data"
    },
    {
     "data": {
      "text/html": [
       "<table>\n",
       "<thead>\n",
       "<tr><th>Distances  </th><th style=\"text-align: right;\">  Median H1</th><th style=\"text-align: right;\">  Minimum H1</th><th style=\"text-align: right;\">  Maximum H1</th><th style=\"text-align: right;\">  Median L1</th><th style=\"text-align: right;\">  Minimum L1</th><th style=\"text-align: right;\">  Maximum L1</th></tr>\n",
       "</thead>\n",
       "<tbody>\n",
       "<tr><td>0100_0300  </td><td style=\"text-align: right;\">    7.3e-06</td><td style=\"text-align: right;\">     2.7e-08</td><td style=\"text-align: right;\">     0.0011 </td><td style=\"text-align: right;\">    5.7e-06</td><td style=\"text-align: right;\">     1.4e-08</td><td style=\"text-align: right;\">     0.00038</td></tr>\n",
       "<tr><td>0250_0500  </td><td style=\"text-align: right;\">    2.1e-06</td><td style=\"text-align: right;\">     1.5e-09</td><td style=\"text-align: right;\">     0.00015</td><td style=\"text-align: right;\">    1.6e-06</td><td style=\"text-align: right;\">     4.1e-09</td><td style=\"text-align: right;\">     9.6e-05</td></tr>\n",
       "<tr><td>0400_0800  </td><td style=\"text-align: right;\">    8.2e-07</td><td style=\"text-align: right;\">     1.8e-09</td><td style=\"text-align: right;\">     6.3e-05</td><td style=\"text-align: right;\">    6.4e-07</td><td style=\"text-align: right;\">     1.9e-09</td><td style=\"text-align: right;\">     3e-05  </td></tr>\n",
       "<tr><td>0700_1200  </td><td style=\"text-align: right;\">    3.5e-07</td><td style=\"text-align: right;\">     8.8e-10</td><td style=\"text-align: right;\">     2.1e-05</td><td style=\"text-align: right;\">    2.6e-07</td><td style=\"text-align: right;\">     9.2e-10</td><td style=\"text-align: right;\">     1.1e-05</td></tr>\n",
       "</tbody>\n",
       "</table>"
      ],
      "text/plain": [
       "<IPython.core.display.HTML object>"
      ]
     },
     "metadata": {},
     "output_type": "display_data"
    },
    {
     "name": "stdout",
     "output_type": "stream",
     "text": [
      "\\begin{tabular}{lrrrrrr}\n",
      "\\hline\n",
      " Distances   &   Median H1 &   Minimum H1 &   Maximum H1 &   Median L1 &   Minimum L1 &   Maximum L1 \\\\\n",
      "\\hline\n",
      " 0100\\_0300   &     7.3e-06 &      2.7e-08 &      0.0011  &     5.7e-06 &      1.4e-08 &      0.00038 \\\\\n",
      " 0250\\_0500   &     2.1e-06 &      1.5e-09 &      0.00015 &     1.6e-06 &      4.1e-09 &      9.6e-05 \\\\\n",
      " 0400\\_0800   &     8.2e-07 &      1.8e-09 &      6.3e-05 &     6.4e-07 &      1.9e-09 &      3e-05   \\\\\n",
      " 0700\\_1200   &     3.5e-07 &      8.8e-10 &      2.1e-05 &     2.6e-07 &      9.2e-10 &      1.1e-05 \\\\\n",
      "\\hline\n",
      "\\end{tabular}\n"
     ]
    },
    {
     "data": {
      "text/html": [
       "<h3>GW151226</h3>"
      ],
      "text/plain": [
       "<IPython.core.display.HTML object>"
      ]
     },
     "metadata": {},
     "output_type": "display_data"
    },
    {
     "data": {
      "text/html": [
       "<table>\n",
       "<thead>\n",
       "<tr><th>Distances  </th><th style=\"text-align: right;\">  Median H1</th><th style=\"text-align: right;\">  Minimum H1</th><th style=\"text-align: right;\">  Maximum H1</th><th style=\"text-align: right;\">  Median L1</th><th style=\"text-align: right;\">  Minimum L1</th><th style=\"text-align: right;\">  Maximum L1</th></tr>\n",
       "</thead>\n",
       "<tbody>\n",
       "<tr><td>0100_0300  </td><td style=\"text-align: right;\">    9.1e-06</td><td style=\"text-align: right;\">     1.7e-08</td><td style=\"text-align: right;\">     0.0013 </td><td style=\"text-align: right;\">    4.7e-07</td><td style=\"text-align: right;\">     1.3e-09</td><td style=\"text-align: right;\">     3.4e-05</td></tr>\n",
       "<tr><td>0250_0500  </td><td style=\"text-align: right;\">    2.6e-06</td><td style=\"text-align: right;\">     7e-09  </td><td style=\"text-align: right;\">     0.00029</td><td style=\"text-align: right;\">    1.4e-07</td><td style=\"text-align: right;\">     3.6e-10</td><td style=\"text-align: right;\">     6.4e-06</td></tr>\n",
       "<tr><td>0400_0800  </td><td style=\"text-align: right;\">    1e-06  </td><td style=\"text-align: right;\">     3.2e-09</td><td style=\"text-align: right;\">     5.8e-05</td><td style=\"text-align: right;\">    5.3e-08</td><td style=\"text-align: right;\">     1.6e-10</td><td style=\"text-align: right;\">     2.2e-06</td></tr>\n",
       "<tr><td>0700_1200  </td><td style=\"text-align: right;\">    4.2e-07</td><td style=\"text-align: right;\">     2.1e-09</td><td style=\"text-align: right;\">     3e-05  </td><td style=\"text-align: right;\">    2.2e-08</td><td style=\"text-align: right;\">     6.9e-11</td><td style=\"text-align: right;\">     8e-07  </td></tr>\n",
       "</tbody>\n",
       "</table>"
      ],
      "text/plain": [
       "<IPython.core.display.HTML object>"
      ]
     },
     "metadata": {},
     "output_type": "display_data"
    },
    {
     "name": "stdout",
     "output_type": "stream",
     "text": [
      "\\begin{tabular}{lrrrrrr}\n",
      "\\hline\n",
      " Distances   &   Median H1 &   Minimum H1 &   Maximum H1 &   Median L1 &   Minimum L1 &   Maximum L1 \\\\\n",
      "\\hline\n",
      " 0100\\_0300   &     9.1e-06 &      1.7e-08 &      0.0013  &     4.7e-07 &      1.3e-09 &      3.4e-05 \\\\\n",
      " 0250\\_0500   &     2.6e-06 &      7e-09   &      0.00029 &     1.4e-07 &      3.6e-10 &      6.4e-06 \\\\\n",
      " 0400\\_0800   &     1e-06   &      3.2e-09 &      5.8e-05 &     5.3e-08 &      1.6e-10 &      2.2e-06 \\\\\n",
      " 0700\\_1200   &     4.2e-07 &      2.1e-09 &      3e-05   &     2.2e-08 &      6.9e-11 &      8e-07   \\\\\n",
      "\\hline\n",
      "\\end{tabular}\n"
     ]
    },
    {
     "data": {
      "text/html": [
       "<h3>GW170104</h3>"
      ],
      "text/plain": [
       "<IPython.core.display.HTML object>"
      ]
     },
     "metadata": {},
     "output_type": "display_data"
    },
    {
     "data": {
      "text/html": [
       "<table>\n",
       "<thead>\n",
       "<tr><th>Distances  </th><th style=\"text-align: right;\">  Median H1</th><th style=\"text-align: right;\">  Minimum H1</th><th style=\"text-align: right;\">  Maximum H1</th><th style=\"text-align: right;\">  Median L1</th><th style=\"text-align: right;\">  Minimum L1</th><th style=\"text-align: right;\">  Maximum L1</th></tr>\n",
       "</thead>\n",
       "<tbody>\n",
       "<tr><td>0100_0300  </td><td style=\"text-align: right;\">    1.1e-06</td><td style=\"text-align: right;\">     6.2e-09</td><td style=\"text-align: right;\">     4.1e-05</td><td style=\"text-align: right;\">    3.7e-06</td><td style=\"text-align: right;\">     8.1e-09</td><td style=\"text-align: right;\">     0.0013 </td></tr>\n",
       "<tr><td>0250_0500  </td><td style=\"text-align: right;\">    3.1e-07</td><td style=\"text-align: right;\">     2e-09  </td><td style=\"text-align: right;\">     6.7e-06</td><td style=\"text-align: right;\">    1.1e-06</td><td style=\"text-align: right;\">     1.5e-09</td><td style=\"text-align: right;\">     0.00017</td></tr>\n",
       "<tr><td>0400_0800  </td><td style=\"text-align: right;\">    1.2e-07</td><td style=\"text-align: right;\">     7.2e-10</td><td style=\"text-align: right;\">     3e-06  </td><td style=\"text-align: right;\">    4.3e-07</td><td style=\"text-align: right;\">     1.3e-09</td><td style=\"text-align: right;\">     8.9e-05</td></tr>\n",
       "<tr><td>0700_1200  </td><td style=\"text-align: right;\">    4.9e-08</td><td style=\"text-align: right;\">     3.9e-10</td><td style=\"text-align: right;\">     6.8e-07</td><td style=\"text-align: right;\">    1.7e-07</td><td style=\"text-align: right;\">     6.3e-10</td><td style=\"text-align: right;\">     2e-05  </td></tr>\n",
       "</tbody>\n",
       "</table>"
      ],
      "text/plain": [
       "<IPython.core.display.HTML object>"
      ]
     },
     "metadata": {},
     "output_type": "display_data"
    },
    {
     "name": "stdout",
     "output_type": "stream",
     "text": [
      "\\begin{tabular}{lrrrrrr}\n",
      "\\hline\n",
      " Distances   &   Median H1 &   Minimum H1 &   Maximum H1 &   Median L1 &   Minimum L1 &   Maximum L1 \\\\\n",
      "\\hline\n",
      " 0100\\_0300   &     1.1e-06 &      6.2e-09 &      4.1e-05 &     3.7e-06 &      8.1e-09 &      0.0013  \\\\\n",
      " 0250\\_0500   &     3.1e-07 &      2e-09   &      6.7e-06 &     1.1e-06 &      1.5e-09 &      0.00017 \\\\\n",
      " 0400\\_0800   &     1.2e-07 &      7.2e-10 &      3e-06   &     4.3e-07 &      1.3e-09 &      8.9e-05 \\\\\n",
      " 0700\\_1200   &     4.9e-08 &      3.9e-10 &      6.8e-07 &     1.7e-07 &      6.3e-10 &      2e-05   \\\\\n",
      "\\hline\n",
      "\\end{tabular}\n"
     ]
    }
   ],
   "source": [
    "for event in ['GW150914', 'GW151226', 'GW170104']:\n",
    "    display(HTML('<h3>{}</h3>'.format(event)))\n",
    "    rows = []\n",
    "    for dist in ['0100_0300', '0250_0500', '0400_0800', '0700_1200']:\n",
    "        median_H1 = '{:.1E}'.format(np.nanmedian(snrs[event][dist]['H1'].flatten()))\n",
    "        median_L1 = '{:.1E}'.format(np.nanmedian(snrs[event][dist]['L1'].flatten()))\n",
    "        min_H1    = '{:.1E}'.format(np.nanmin(snrs[event][dist]['H1'].flatten()))\n",
    "        min_L1    = '{:.1E}'.format(np.nanmin(snrs[event][dist]['L1'].flatten()))\n",
    "        max_H1    = '{:.1E}'.format(np.nanmax(snrs[event][dist]['H1'].flatten()))\n",
    "        max_L1    = '{:.1E}'.format(np.nanmax(snrs[event][dist]['L1'].flatten()))\n",
    "        rows.append([dist, median_H1, min_H1, max_H1, median_L1, min_L1, max_L1])\n",
    "    display(HTML(tabulate(rows, tablefmt='html', \n",
    "                          headers=['Distances', 'Median H1', 'Minimum H1', 'Maximum H1', 'Median L1', 'Minimum L1', 'Maximum L1'])))\n",
    "    print(tabulate(rows, tablefmt='latex', \n",
    "                          headers=['Distances', 'Median H1', 'Minimum H1', 'Maximum H1', 'Median L1', 'Minimum L1', 'Maximum L1']))"
   ]
  },
  {
   "cell_type": "code",
   "execution_count": 7,
   "metadata": {},
   "outputs": [
    {
     "data": {
      "text/plain": [
       "0.00017"
      ]
     },
     "execution_count": 7,
     "metadata": {},
     "output_type": "execute_result"
    }
   ],
   "source": [
    "1.7e-4"
   ]
  },
  {
   "cell_type": "code",
   "execution_count": null,
   "metadata": {
    "collapsed": true
   },
   "outputs": [],
   "source": []
  }
 ],
 "metadata": {
  "kernelspec": {
   "display_name": "Python 3",
   "language": "python",
   "name": "python3"
  },
  "language_info": {
   "codemirror_mode": {
    "name": "ipython",
    "version": 3
   },
   "file_extension": ".py",
   "mimetype": "text/x-python",
   "name": "python",
   "nbconvert_exporter": "python",
   "pygments_lexer": "ipython3",
   "version": "3.5.2"
  }
 },
 "nbformat": 4,
 "nbformat_minor": 2
}
